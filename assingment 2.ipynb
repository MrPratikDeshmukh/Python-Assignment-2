{
 "cells": [
  {
   "cell_type": "markdown",
   "id": "6667d476-0afc-4a70-9cf4-5264cbde6c4e",
   "metadata": {},
   "source": [
    "Q1. Create a python program to sort the given list of tuples based on integer value using a\n",
    "lambda function.\n",
    "[('Sachin Tendulkar', 34357), ('Ricky Ponting', 27483), ('Jack Kallis', 25534), ('Virat Kohli', 24936)]"
   ]
  },
  {
   "cell_type": "code",
   "execution_count": 17,
   "id": "cb167008-a839-4412-9c9e-52c5cb52f722",
   "metadata": {},
   "outputs": [
    {
     "name": "stdout",
     "output_type": "stream",
     "text": [
      "('Virat Kohli', 24936)\n",
      "('Jack Kallis', 25534)\n",
      "('Ricky Ponting', 27483)\n",
      "('Sachin Tendulkar', 34357)\n"
     ]
    }
   ],
   "source": [
    "l=[('Sachin Tendulkar', 34357), ('Ricky Ponting', 27483), ('Jack Kallis', 25534), ('Virat Kohli', 24936)]\n",
    "\n",
    "sort_p = sorted(l ,key=lambda x :x[1])\n",
    "\n",
    "for i in sort_p:\n",
    "    print(i)"
   ]
  },
  {
   "cell_type": "markdown",
   "id": "5fae6fe0-0768-47c3-81fb-9b4ad95047d6",
   "metadata": {},
   "source": [
    "Q2. Write a Python Program to find the squares of all the numbers in the given list of integers using\n",
    "lambda and map functions.\n",
    "[1, 2, 3, 4, 5, 6, 7, 8, 9, 10]"
   ]
  },
  {
   "cell_type": "code",
   "execution_count": 6,
   "id": "0e424b4e-53c8-4752-8488-5b28ef75ac97",
   "metadata": {},
   "outputs": [
    {
     "data": {
      "text/plain": [
       "[1, 4, 9, 16, 25, 36, 49, 64, 81, 100]"
      ]
     },
     "execution_count": 6,
     "metadata": {},
     "output_type": "execute_result"
    }
   ],
   "source": [
    "l = [1, 2, 3, 4, 5, 6, 7, 8, 9, 10]\n",
    "\n",
    "def sq(x):\n",
    "    return x**2\n",
    "\n",
    "list(map(sq,l))"
   ]
  },
  {
   "cell_type": "markdown",
   "id": "02e64e8e-484a-42c0-b92f-c0433a0d8f8b",
   "metadata": {},
   "source": [
    "Q3. Write a python program to convert the given list of integers into a tuple of strings. Use map and\n",
    "lambda functions"
   ]
  },
  {
   "cell_type": "code",
   "execution_count": 7,
   "id": "fd860148-107b-46dd-873d-75394e80419e",
   "metadata": {},
   "outputs": [],
   "source": [
    "l1 = [1, 2, 3, 4, 5, 6, 7, 8, 9, 10]"
   ]
  },
  {
   "cell_type": "code",
   "execution_count": 8,
   "id": "edbfe9ec-95c9-4d8a-8e88-55ea5d11d047",
   "metadata": {},
   "outputs": [
    {
     "data": {
      "text/plain": [
       "'[1, 2, 3, 4, 5, 6, 7, 8, 9, 10]'"
      ]
     },
     "execution_count": 8,
     "metadata": {},
     "output_type": "execute_result"
    }
   ],
   "source": [
    "str(l1)"
   ]
  },
  {
   "cell_type": "code",
   "execution_count": 10,
   "id": "19bca3d7-1b38-4b2e-83e7-05879fee3d30",
   "metadata": {},
   "outputs": [
    {
     "data": {
      "text/plain": [
       "(1, 2, 3, 4, 5, 6, 7, 8, 9, 10)"
      ]
     },
     "execution_count": 10,
     "metadata": {},
     "output_type": "execute_result"
    }
   ],
   "source": [
    "tuple(map(lambda x : x , l1))"
   ]
  },
  {
   "cell_type": "markdown",
   "id": "07f13e37-2017-4d39-9b72-2439e44c6c44",
   "metadata": {},
   "source": [
    "Q4. Write a python program using reduce function to compute the product of a list containing numbers\n",
    "from 1 to 25."
   ]
  },
  {
   "cell_type": "code",
   "execution_count": 27,
   "id": "e53f90c8-ee2e-42af-aaf5-24cc4d9b8280",
   "metadata": {},
   "outputs": [],
   "source": [
    "l4 = [1,2,3,4,5,6,7,8,9,10,11,12,13,14,15,16,17,18,19,20,21,22,23,24,25]"
   ]
  },
  {
   "cell_type": "code",
   "execution_count": 30,
   "id": "b92bdff0-fcea-4837-85b2-660ea9c7b7c0",
   "metadata": {},
   "outputs": [],
   "source": [
    "from functools import  reduce"
   ]
  },
  {
   "cell_type": "code",
   "execution_count": 31,
   "id": "5bcc4520-4675-4782-a8f2-96ce470dc6d1",
   "metadata": {},
   "outputs": [
    {
     "data": {
      "text/plain": [
       "3628800"
      ]
     },
     "execution_count": 31,
     "metadata": {},
     "output_type": "execute_result"
    }
   ],
   "source": [
    "reduce(lambda x ,y : x*y , l)"
   ]
  },
  {
   "cell_type": "markdown",
   "id": "ef3a1edd-01ec-46da-b1f6-eaba413547a2",
   "metadata": {},
   "source": [
    "Q5. Write a python program to filter the numbers in a given list that are divisible by 2 and 3 using the\n",
    "filter function.\n",
    "[2, 3, 6, 9, 27, 60, 90, 120, 55, 46]"
   ]
  },
  {
   "cell_type": "code",
   "execution_count": 38,
   "id": "494315a8-25b6-41a9-8112-09b9b9c7b8da",
   "metadata": {},
   "outputs": [],
   "source": [
    "l5 = [2, 3, 6, 9, 27, 60, 90, 120, 55, 46]"
   ]
  },
  {
   "cell_type": "code",
   "execution_count": 40,
   "id": "9e8b7212-4d22-427c-a06c-9a93607ca6fa",
   "metadata": {},
   "outputs": [
    {
     "data": {
      "text/plain": [
       "[2, 6, 60, 90, 120, 46]"
      ]
     },
     "execution_count": 40,
     "metadata": {},
     "output_type": "execute_result"
    }
   ],
   "source": [
    "#no divisible by 2 are as follows \n",
    "list(filter(lambda x: x%2 == 0,l5))"
   ]
  },
  {
   "cell_type": "code",
   "execution_count": 43,
   "id": "db67ddbe-1e31-431f-ae19-00d2fc8c37ef",
   "metadata": {},
   "outputs": [
    {
     "data": {
      "text/plain": [
       "[3, 6, 9, 27, 60, 90, 120]"
      ]
     },
     "execution_count": 43,
     "metadata": {},
     "output_type": "execute_result"
    }
   ],
   "source": [
    "#no divisible by 3 are as follows \n",
    "list(filter(lambda x: x%3 == 0,l5))"
   ]
  },
  {
   "cell_type": "markdown",
   "id": "f8e7884f-5728-4839-93ab-5709c2209e07",
   "metadata": {},
   "source": [
    "Q6. Write a python program to find palindromes in the given list of strings using lambda and filter\n",
    "function.\n",
    "['python', 'php', 'aba', 'radar', 'level']"
   ]
  },
  {
   "cell_type": "code",
   "execution_count": 3,
   "id": "a1a69cca-b36e-43ad-b3cb-b77b0a796448",
   "metadata": {},
   "outputs": [
    {
     "name": "stdout",
     "output_type": "stream",
     "text": [
      "['php', 'aba', 'radar', 'level']\n"
     ]
    }
   ],
   "source": [
    "l6 = ['python', 'php', 'aba', 'radar', 'level']\n",
    "\n",
    "p = list(filter(lambda string : string == string[::-1], l6))\n",
    "         \n",
    "print(p)"
   ]
  }
 ],
 "metadata": {
  "kernelspec": {
   "display_name": "Python 3 (ipykernel)",
   "language": "python",
   "name": "python3"
  },
  "language_info": {
   "codemirror_mode": {
    "name": "ipython",
    "version": 3
   },
   "file_extension": ".py",
   "mimetype": "text/x-python",
   "name": "python",
   "nbconvert_exporter": "python",
   "pygments_lexer": "ipython3",
   "version": "3.10.8"
  }
 },
 "nbformat": 4,
 "nbformat_minor": 5
}
